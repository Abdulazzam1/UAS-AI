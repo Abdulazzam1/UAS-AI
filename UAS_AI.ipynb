{
  "nbformat": 4,
  "nbformat_minor": 0,
  "metadata": {
    "colab": {
      "provenance": [],
      "authorship_tag": "ABX9TyPnhMPyzBbSl7T3BmFNs+oj",
      "include_colab_link": true
    },
    "kernelspec": {
      "name": "python3",
      "display_name": "Python 3"
    },
    "language_info": {
      "name": "python"
    }
  },
  "cells": [
    {
      "cell_type": "markdown",
      "metadata": {
        "id": "view-in-github",
        "colab_type": "text"
      },
      "source": [
        "<a href=\"https://colab.research.google.com/github/Abdulazzam1/UAS-AI/blob/main/UAS_AI.ipynb\" target=\"_parent\"><img src=\"https://colab.research.google.com/assets/colab-badge.svg\" alt=\"Open In Colab\"/></a>"
      ]
    },
    {
      "cell_type": "code",
      "execution_count": null,
      "metadata": {
        "id": "4Yv_NGcp0BE5"
      },
      "outputs": [],
      "source": [
        "import warnings;\n",
        "warnings.filterwarnings('ignore');\n",
        "import pandas as pd"
      ]
    },
    {
      "cell_type": "code",
      "source": [
        "data_location = \"https://raw.githubusercontent.com/sdgroeve/D012513A-Specialised-Bio-informatics-Machine-Learning/main/practicum_I/\""
      ],
      "metadata": {
        "id": "Cwj9P7Rc0FK7"
      },
      "execution_count": null,
      "outputs": []
    },
    {
      "cell_type": "code",
      "source": [
        "data_name = \"acceptor_site_dataset.csv\""
      ],
      "metadata": {
        "id": "7M3YZRnD0Gtj"
      },
      "execution_count": null,
      "outputs": []
    },
    {
      "cell_type": "code",
      "source": [
        "data = pd.read_csv(data_location + data_name)"
      ],
      "metadata": {
        "id": "B_tpN8V00H1z"
      },
      "execution_count": null,
      "outputs": []
    },
    {
      "cell_type": "code",
      "source": [
        "print(data.head(5))"
      ],
      "metadata": {
        "id": "Bo4l8Bnf0LTj"
      },
      "execution_count": null,
      "outputs": []
    },
    {
      "cell_type": "code",
      "source": [
        "print(data.subset.value_counts())"
      ],
      "metadata": {
        "id": "1fAhLmFS0MXT",
        "colab": {
          "base_uri": "https://localhost:8080/"
        },
        "outputId": "54f97e3e-fe29-43d0-fb3b-827ca8098017"
      },
      "execution_count": null,
      "outputs": [
        {
          "output_type": "stream",
          "name": "stdout",
          "text": [
            "train    2752\n",
            "test      552\n",
            "Name: subset, dtype: int64\n"
          ]
        }
      ]
    },
    {
      "cell_type": "code",
      "source": [
        "print(data.head())\n",
        "data[\"sequence\"] = data[\"sequence\"].map(lambda x: x[0:10]+x[12:22])\n",
        "print(data.head())"
      ],
      "metadata": {
        "id": "c89FsrHg0QDb",
        "colab": {
          "base_uri": "https://localhost:8080/"
        },
        "outputId": "861e3d4b-edcf-454a-ae65-8e3c48aff867"
      },
      "execution_count": null,
      "outputs": [
        {
          "output_type": "stream",
          "name": "stdout",
          "text": [
            "                 sequence  label subset\n",
            "0  TTTGAATTGTAGGTGTCCTGCT      1  train\n",
            "1  TATTTTTTAAAGAACTGGAAGA      1  train\n",
            "2  TTTCTTTTTCAGATGAAGAATG      1  train\n",
            "3  TATTAATTTCAGTTTGGTTGTT      1  train\n",
            "4  TAAAAATTTAAGTTCGTCCCGA      1  train\n",
            "               sequence  label subset\n",
            "0  TTTGAATTGTGTGTCCTGCT      1  train\n",
            "1  TATTTTTTAAAACTGGAAGA      1  train\n",
            "2  TTTCTTTTTCATGAAGAATG      1  train\n",
            "3  TATTAATTTCTTTGGTTGTT      1  train\n",
            "4  TAAAAATTTATTCGTCCCGA      1  train\n"
          ]
        }
      ]
    },
    {
      "cell_type": "code",
      "source": [
        "data_features = data['sequence'].str.split('', expand=True).iloc[:,1:21]\n",
        "data_features.columns = [\"%i\"%i for i in range(-10,0,1)] + [\"%i\"%i for i in range(1,11,1)]\n",
        "\n",
        "print(data_features)"
      ],
      "metadata": {
        "id": "BEL6APSS0Ts7",
        "colab": {
          "base_uri": "https://localhost:8080/"
        },
        "outputId": "539f34ab-2374-42b3-bc5a-8ce7b5ec413c"
      },
      "execution_count": null,
      "outputs": [
        {
          "output_type": "stream",
          "name": "stdout",
          "text": [
            "     -10 -9 -8 -7 -6 -5 -4 -3 -2 -1  1  2  3  4  5  6  7  8  9 10\n",
            "0      T  T  T  G  A  A  T  T  G  T  G  T  G  T  C  C  T  G  C  T\n",
            "1      T  A  T  T  T  T  T  T  A  A  A  A  C  T  G  G  A  A  G  A\n",
            "2      T  T  T  C  T  T  T  T  T  C  A  T  G  A  A  G  A  A  T  G\n",
            "3      T  A  T  T  A  A  T  T  T  C  T  T  T  G  G  T  T  G  T  T\n",
            "4      T  A  A  A  A  A  T  T  T  A  T  T  C  G  T  C  C  C  G  A\n",
            "...   .. .. .. .. .. .. .. .. .. .. .. .. .. .. .. .. .. .. .. ..\n",
            "3299   T  T  T  G  A  A  G  T  T  T  C  T  T  C  C  T  T  C  T  C\n",
            "3300   C  T  G  C  T  A  A  T  A  T  T  G  A  C  A  G  C  A  A  T\n",
            "3301   T  T  C  C  A  A  A  T  A  T  G  A  A  A  A  T  C  G  A  A\n",
            "3302   A  A  A  A  T  G  T  C  G  C  A  A  C  A  A  C  A  A  G  A\n",
            "3303   A  G  A  A  G  T  A  T  G  G  G  T  G  G  A  A  T  G  T  T\n",
            "\n",
            "[3304 rows x 20 columns]\n"
          ]
        }
      ]
    },
    {
      "cell_type": "code",
      "source": [
        "def map_nucleotide_to_number(x):\n",
        "    if x == 'A':\n",
        "        return 0\n",
        "    if x == 'C':\n",
        "        return 1\n",
        "    if x == 'G':\n",
        "        return 2\n",
        "    if x == 'T':\n",
        "        return 3\n",
        "\n",
        "for nucleotide, mapped_number in zip(['A','C','G','T'],range(4)):\n",
        "    if map_nucleotide_to_number(nucleotide) != mapped_number:\n",
        "        print(\"Function is not working for nucleotide %s\"%nucleotide)\n",
        "    else:\n",
        "        print(\"Function works for nucleotide %s\"%nucleotide)"
      ],
      "metadata": {
        "id": "i-l384iz0VVL",
        "colab": {
          "base_uri": "https://localhost:8080/"
        },
        "outputId": "f37ab75b-6e5d-4853-a3d8-0141ee97a76c"
      },
      "execution_count": null,
      "outputs": [
        {
          "output_type": "stream",
          "name": "stdout",
          "text": [
            "Function works for nucleotide A\n",
            "Function works for nucleotide C\n",
            "Function works for nucleotide G\n",
            "Function works for nucleotide T\n"
          ]
        }
      ]
    },
    {
      "cell_type": "code",
      "source": [
        "\n",
        "data_features_numerical = data_features.applymap(map_nucleotide_to_number)\n",
        "\n",
        "print(data_features_numerical)"
      ],
      "metadata": {
        "id": "2_e8ysHb0Y27",
        "colab": {
          "base_uri": "https://localhost:8080/"
        },
        "outputId": "f9631422-bc4f-4360-d55c-907ba61df0e2"
      },
      "execution_count": null,
      "outputs": [
        {
          "output_type": "stream",
          "name": "stdout",
          "text": [
            "      -10  -9  -8  -7  -6  -5  -4  -3  -2  -1  1  2  3  4  5  6  7  8  9  10\n",
            "0       3   3   3   2   0   0   3   3   2   3  2  3  2  3  1  1  3  2  1   3\n",
            "1       3   0   3   3   3   3   3   3   0   0  0  0  1  3  2  2  0  0  2   0\n",
            "2       3   3   3   1   3   3   3   3   3   1  0  3  2  0  0  2  0  0  3   2\n",
            "3       3   0   3   3   0   0   3   3   3   1  3  3  3  2  2  3  3  2  3   3\n",
            "4       3   0   0   0   0   0   3   3   3   0  3  3  1  2  3  1  1  1  2   0\n",
            "...   ...  ..  ..  ..  ..  ..  ..  ..  ..  .. .. .. .. .. .. .. .. .. ..  ..\n",
            "3299    3   3   3   2   0   0   2   3   3   3  1  3  3  1  1  3  3  1  3   1\n",
            "3300    1   3   2   1   3   0   0   3   0   3  3  2  0  1  0  2  1  0  0   3\n",
            "3301    3   3   1   1   0   0   0   3   0   3  2  0  0  0  0  3  1  2  0   0\n",
            "3302    0   0   0   0   3   2   3   1   2   1  0  0  1  0  0  1  0  0  2   0\n",
            "3303    0   2   0   0   2   3   0   3   2   2  2  3  2  2  0  0  3  2  3   3\n",
            "\n",
            "[3304 rows x 20 columns]\n"
          ]
        }
      ]
    },
    {
      "cell_type": "code",
      "source": [
        "X_train = data_features_numerical.loc[data.subset == \"train\"]\n",
        "X_test = data_features_numerical.loc[data.subset == \"test\"]"
      ],
      "metadata": {
        "id": "hgdi9fpL0dqb"
      },
      "execution_count": null,
      "outputs": []
    },
    {
      "cell_type": "code",
      "source": [
        "y_train = data.loc[data.subset == \"train\"][\"label\"]\n",
        "y_test = data.loc[data.subset == \"test\"][\"label\"]\n"
      ],
      "metadata": {
        "id": "Inc0YnFi0f5D"
      },
      "execution_count": null,
      "outputs": []
    },
    {
      "cell_type": "code",
      "source": [
        "print(y_train.value_counts())"
      ],
      "metadata": {
        "id": "1Isyl36t0hXb",
        "colab": {
          "base_uri": "https://localhost:8080/"
        },
        "outputId": "64cc7197-8240-45df-d7f9-37d4784db18b"
      },
      "execution_count": null,
      "outputs": [
        {
          "output_type": "stream",
          "name": "stdout",
          "text": [
            "0    2497\n",
            "1     255\n",
            "Name: label, dtype: int64\n"
          ]
        }
      ]
    },
    {
      "cell_type": "code",
      "source": [
        "print(y_test.value_counts())"
      ],
      "metadata": {
        "id": "cXES36ST0ipr",
        "colab": {
          "base_uri": "https://localhost:8080/"
        },
        "outputId": "486bcaf7-efc1-4853-f18f-4050447fa7c5"
      },
      "execution_count": null,
      "outputs": [
        {
          "output_type": "stream",
          "name": "stdout",
          "text": [
            "0    497\n",
            "1     55\n",
            "Name: label, dtype: int64\n"
          ]
        }
      ]
    },
    {
      "cell_type": "code",
      "source": [
        "from sklearn.linear_model import LogisticRegression\n",
        "lr_model = LogisticRegression()\n",
        "print(lr_model)"
      ],
      "metadata": {
        "id": "G4ZiCRlj0jtT",
        "colab": {
          "base_uri": "https://localhost:8080/"
        },
        "outputId": "186232ee-f17c-4d51-8247-a47e58a88ff8"
      },
      "execution_count": null,
      "outputs": [
        {
          "output_type": "stream",
          "name": "stdout",
          "text": [
            "LogisticRegression()\n"
          ]
        }
      ]
    },
    {
      "cell_type": "code",
      "source": [
        "lr_model.fit(X_train,y_train)"
      ],
      "metadata": {
        "id": "QBanyMI90oXc",
        "colab": {
          "base_uri": "https://localhost:8080/",
          "height": 74
        },
        "outputId": "0d8c5925-2bb9-47b9-ce2f-edd445521046"
      },
      "execution_count": null,
      "outputs": [
        {
          "output_type": "execute_result",
          "data": {
            "text/plain": [
              "LogisticRegression()"
            ],
            "text/html": [
              "<style>#sk-container-id-1 {color: black;background-color: white;}#sk-container-id-1 pre{padding: 0;}#sk-container-id-1 div.sk-toggleable {background-color: white;}#sk-container-id-1 label.sk-toggleable__label {cursor: pointer;display: block;width: 100%;margin-bottom: 0;padding: 0.3em;box-sizing: border-box;text-align: center;}#sk-container-id-1 label.sk-toggleable__label-arrow:before {content: \"▸\";float: left;margin-right: 0.25em;color: #696969;}#sk-container-id-1 label.sk-toggleable__label-arrow:hover:before {color: black;}#sk-container-id-1 div.sk-estimator:hover label.sk-toggleable__label-arrow:before {color: black;}#sk-container-id-1 div.sk-toggleable__content {max-height: 0;max-width: 0;overflow: hidden;text-align: left;background-color: #f0f8ff;}#sk-container-id-1 div.sk-toggleable__content pre {margin: 0.2em;color: black;border-radius: 0.25em;background-color: #f0f8ff;}#sk-container-id-1 input.sk-toggleable__control:checked~div.sk-toggleable__content {max-height: 200px;max-width: 100%;overflow: auto;}#sk-container-id-1 input.sk-toggleable__control:checked~label.sk-toggleable__label-arrow:before {content: \"▾\";}#sk-container-id-1 div.sk-estimator input.sk-toggleable__control:checked~label.sk-toggleable__label {background-color: #d4ebff;}#sk-container-id-1 div.sk-label input.sk-toggleable__control:checked~label.sk-toggleable__label {background-color: #d4ebff;}#sk-container-id-1 input.sk-hidden--visually {border: 0;clip: rect(1px 1px 1px 1px);clip: rect(1px, 1px, 1px, 1px);height: 1px;margin: -1px;overflow: hidden;padding: 0;position: absolute;width: 1px;}#sk-container-id-1 div.sk-estimator {font-family: monospace;background-color: #f0f8ff;border: 1px dotted black;border-radius: 0.25em;box-sizing: border-box;margin-bottom: 0.5em;}#sk-container-id-1 div.sk-estimator:hover {background-color: #d4ebff;}#sk-container-id-1 div.sk-parallel-item::after {content: \"\";width: 100%;border-bottom: 1px solid gray;flex-grow: 1;}#sk-container-id-1 div.sk-label:hover label.sk-toggleable__label {background-color: #d4ebff;}#sk-container-id-1 div.sk-serial::before {content: \"\";position: absolute;border-left: 1px solid gray;box-sizing: border-box;top: 0;bottom: 0;left: 50%;z-index: 0;}#sk-container-id-1 div.sk-serial {display: flex;flex-direction: column;align-items: center;background-color: white;padding-right: 0.2em;padding-left: 0.2em;position: relative;}#sk-container-id-1 div.sk-item {position: relative;z-index: 1;}#sk-container-id-1 div.sk-parallel {display: flex;align-items: stretch;justify-content: center;background-color: white;position: relative;}#sk-container-id-1 div.sk-item::before, #sk-container-id-1 div.sk-parallel-item::before {content: \"\";position: absolute;border-left: 1px solid gray;box-sizing: border-box;top: 0;bottom: 0;left: 50%;z-index: -1;}#sk-container-id-1 div.sk-parallel-item {display: flex;flex-direction: column;z-index: 1;position: relative;background-color: white;}#sk-container-id-1 div.sk-parallel-item:first-child::after {align-self: flex-end;width: 50%;}#sk-container-id-1 div.sk-parallel-item:last-child::after {align-self: flex-start;width: 50%;}#sk-container-id-1 div.sk-parallel-item:only-child::after {width: 0;}#sk-container-id-1 div.sk-dashed-wrapped {border: 1px dashed gray;margin: 0 0.4em 0.5em 0.4em;box-sizing: border-box;padding-bottom: 0.4em;background-color: white;}#sk-container-id-1 div.sk-label label {font-family: monospace;font-weight: bold;display: inline-block;line-height: 1.2em;}#sk-container-id-1 div.sk-label-container {text-align: center;}#sk-container-id-1 div.sk-container {/* jupyter's `normalize.less` sets `[hidden] { display: none; }` but bootstrap.min.css set `[hidden] { display: none !important; }` so we also need the `!important` here to be able to override the default hidden behavior on the sphinx rendered scikit-learn.org. See: https://github.com/scikit-learn/scikit-learn/issues/21755 */display: inline-block !important;position: relative;}#sk-container-id-1 div.sk-text-repr-fallback {display: none;}</style><div id=\"sk-container-id-1\" class=\"sk-top-container\"><div class=\"sk-text-repr-fallback\"><pre>LogisticRegression()</pre><b>In a Jupyter environment, please rerun this cell to show the HTML representation or trust the notebook. <br />On GitHub, the HTML representation is unable to render, please try loading this page with nbviewer.org.</b></div><div class=\"sk-container\" hidden><div class=\"sk-item\"><div class=\"sk-estimator sk-toggleable\"><input class=\"sk-toggleable__control sk-hidden--visually\" id=\"sk-estimator-id-1\" type=\"checkbox\" checked><label for=\"sk-estimator-id-1\" class=\"sk-toggleable__label sk-toggleable__label-arrow\">LogisticRegression</label><div class=\"sk-toggleable__content\"><pre>LogisticRegression()</pre></div></div></div></div></div>"
            ]
          },
          "metadata": {},
          "execution_count": 16
        }
      ]
    },
    {
      "cell_type": "code",
      "source": [
        "predictions = lr_model.predict(X_test)\n",
        "print(predictions)"
      ],
      "metadata": {
        "id": "f6wgKwB-0ty7",
        "colab": {
          "base_uri": "https://localhost:8080/"
        },
        "outputId": "f712a5fa-fab4-4b39-b19b-b91675153bff"
      },
      "execution_count": null,
      "outputs": [
        {
          "output_type": "stream",
          "name": "stdout",
          "text": [
            "[1 1 1 0 0 0 0 1 0 0 0 0 0 0 0 0 0 1 1 0 0 1 0 1 0 1 0 0 1 1 0 1 0 0 0 1 1\n",
            " 0 1 0 0 1 1 1 1 0 0 0 1 0 1 1 0 0 1 0 0 0 0 0 0 0 0 0 0 0 0 0 0 0 0 0 0 0\n",
            " 0 0 0 0 0 0 0 0 0 0 0 0 0 0 0 0 0 0 0 0 0 0 0 0 0 0 0 0 0 0 0 0 0 0 0 0 0\n",
            " 0 0 0 0 0 0 0 0 0 0 0 0 0 0 0 0 0 0 0 0 0 0 0 0 0 0 0 0 0 0 0 0 0 0 0 0 0\n",
            " 0 0 0 0 0 0 0 0 0 0 0 0 0 0 0 0 0 0 0 0 0 0 0 0 0 0 0 0 0 0 0 0 0 0 0 0 0\n",
            " 0 0 0 0 0 0 0 0 0 0 0 0 0 0 0 0 0 1 0 0 0 0 0 0 0 0 0 0 0 0 0 0 0 0 0 0 0\n",
            " 0 0 0 0 0 0 0 0 0 0 0 0 0 0 0 0 0 1 0 0 0 0 0 0 0 0 0 0 0 0 0 0 0 0 0 0 0\n",
            " 0 0 0 0 0 0 0 0 0 0 0 0 0 0 0 1 0 0 0 0 0 0 0 0 0 0 0 0 0 0 1 0 0 0 0 0 0\n",
            " 0 0 0 0 0 0 0 0 0 0 0 0 0 0 0 0 0 0 0 0 0 0 0 0 0 0 0 0 0 0 0 0 0 0 0 0 1\n",
            " 0 0 0 0 0 0 0 0 0 0 0 1 0 0 0 0 0 0 0 0 0 0 0 0 0 0 0 0 0 0 0 0 0 0 0 0 0\n",
            " 0 0 0 0 0 0 0 0 0 0 0 0 0 0 0 0 0 0 0 0 0 0 0 0 0 0 0 0 0 0 0 0 0 0 0 0 0\n",
            " 0 0 0 1 0 0 0 0 0 0 0 0 0 0 0 0 0 0 0 0 1 0 0 0 0 0 0 0 0 0 0 0 0 0 0 0 0\n",
            " 0 0 0 0 0 0 0 0 0 0 0 0 0 0 0 0 0 0 0 0 0 0 0 0 0 0 0 0 0 0 1 0 0 0 0 0 0\n",
            " 0 0 0 0 1 0 0 0 0 0 0 0 0 1 0 0 0 0 0 0 0 0 0 0 0 0 0 0 0 0 0 0 0 0 0 0 0\n",
            " 0 0 0 0 0 0 0 0 0 1 0 0 0 0 0 0 0 0 0 0 0 0 0 0 0 0 0 0 0 0 0 0 0 0]\n"
          ]
        }
      ]
    },
    {
      "cell_type": "code",
      "source": [
        "from sklearn import metrics\n",
        "\n",
        "score_acc = metrics.accuracy_score(y_test,predictions)\n",
        "\n",
        "print(score_acc)"
      ],
      "metadata": {
        "id": "5r3O9xOR0wXD",
        "colab": {
          "base_uri": "https://localhost:8080/"
        },
        "outputId": "a54307c9-8a21-4d7a-9a8a-62df9f356b97"
      },
      "execution_count": null,
      "outputs": [
        {
          "output_type": "stream",
          "name": "stdout",
          "text": [
            "0.9202898550724637\n"
          ]
        }
      ]
    },
    {
      "cell_type": "code",
      "source": [
        "predictions_zero = [0]*len(y_test)\n",
        "print(predictions_zero)"
      ],
      "metadata": {
        "id": "h8lwKiQC03d6",
        "colab": {
          "base_uri": "https://localhost:8080/"
        },
        "outputId": "79447d32-ec4c-402f-bc56-f1325873facd"
      },
      "execution_count": null,
      "outputs": [
        {
          "output_type": "stream",
          "name": "stdout",
          "text": [
            "[0, 0, 0, 0, 0, 0, 0, 0, 0, 0, 0, 0, 0, 0, 0, 0, 0, 0, 0, 0, 0, 0, 0, 0, 0, 0, 0, 0, 0, 0, 0, 0, 0, 0, 0, 0, 0, 0, 0, 0, 0, 0, 0, 0, 0, 0, 0, 0, 0, 0, 0, 0, 0, 0, 0, 0, 0, 0, 0, 0, 0, 0, 0, 0, 0, 0, 0, 0, 0, 0, 0, 0, 0, 0, 0, 0, 0, 0, 0, 0, 0, 0, 0, 0, 0, 0, 0, 0, 0, 0, 0, 0, 0, 0, 0, 0, 0, 0, 0, 0, 0, 0, 0, 0, 0, 0, 0, 0, 0, 0, 0, 0, 0, 0, 0, 0, 0, 0, 0, 0, 0, 0, 0, 0, 0, 0, 0, 0, 0, 0, 0, 0, 0, 0, 0, 0, 0, 0, 0, 0, 0, 0, 0, 0, 0, 0, 0, 0, 0, 0, 0, 0, 0, 0, 0, 0, 0, 0, 0, 0, 0, 0, 0, 0, 0, 0, 0, 0, 0, 0, 0, 0, 0, 0, 0, 0, 0, 0, 0, 0, 0, 0, 0, 0, 0, 0, 0, 0, 0, 0, 0, 0, 0, 0, 0, 0, 0, 0, 0, 0, 0, 0, 0, 0, 0, 0, 0, 0, 0, 0, 0, 0, 0, 0, 0, 0, 0, 0, 0, 0, 0, 0, 0, 0, 0, 0, 0, 0, 0, 0, 0, 0, 0, 0, 0, 0, 0, 0, 0, 0, 0, 0, 0, 0, 0, 0, 0, 0, 0, 0, 0, 0, 0, 0, 0, 0, 0, 0, 0, 0, 0, 0, 0, 0, 0, 0, 0, 0, 0, 0, 0, 0, 0, 0, 0, 0, 0, 0, 0, 0, 0, 0, 0, 0, 0, 0, 0, 0, 0, 0, 0, 0, 0, 0, 0, 0, 0, 0, 0, 0, 0, 0, 0, 0, 0, 0, 0, 0, 0, 0, 0, 0, 0, 0, 0, 0, 0, 0, 0, 0, 0, 0, 0, 0, 0, 0, 0, 0, 0, 0, 0, 0, 0, 0, 0, 0, 0, 0, 0, 0, 0, 0, 0, 0, 0, 0, 0, 0, 0, 0, 0, 0, 0, 0, 0, 0, 0, 0, 0, 0, 0, 0, 0, 0, 0, 0, 0, 0, 0, 0, 0, 0, 0, 0, 0, 0, 0, 0, 0, 0, 0, 0, 0, 0, 0, 0, 0, 0, 0, 0, 0, 0, 0, 0, 0, 0, 0, 0, 0, 0, 0, 0, 0, 0, 0, 0, 0, 0, 0, 0, 0, 0, 0, 0, 0, 0, 0, 0, 0, 0, 0, 0, 0, 0, 0, 0, 0, 0, 0, 0, 0, 0, 0, 0, 0, 0, 0, 0, 0, 0, 0, 0, 0, 0, 0, 0, 0, 0, 0, 0, 0, 0, 0, 0, 0, 0, 0, 0, 0, 0, 0, 0, 0, 0, 0, 0, 0, 0, 0, 0, 0, 0, 0, 0, 0, 0, 0, 0, 0, 0, 0, 0, 0, 0, 0, 0, 0, 0, 0, 0, 0, 0, 0, 0, 0, 0, 0, 0, 0, 0, 0, 0, 0, 0, 0, 0, 0, 0, 0, 0, 0, 0, 0, 0, 0, 0, 0, 0, 0, 0, 0, 0, 0, 0, 0, 0, 0, 0, 0, 0, 0, 0, 0, 0, 0, 0, 0, 0, 0, 0, 0, 0, 0, 0, 0, 0, 0, 0, 0, 0, 0, 0]\n"
          ]
        }
      ]
    },
    {
      "cell_type": "code",
      "source": [
        "score_acc = metrics.accuracy_score(y_test,predictions_zero)\n",
        "print(score_acc)"
      ],
      "metadata": {
        "id": "5GPUttJT047i",
        "colab": {
          "base_uri": "https://localhost:8080/"
        },
        "outputId": "bb0d3981-59d8-42f2-ae00-10730a24f864"
      },
      "execution_count": null,
      "outputs": [
        {
          "output_type": "stream",
          "name": "stdout",
          "text": [
            "0.9003623188405797\n"
          ]
        }
      ]
    },
    {
      "cell_type": "code",
      "source": [
        "from sklearn.metrics import roc_auc_score\n",
        "score_auc = roc_auc_score(y_test,predictions)\n",
        "print(score_auc)"
      ],
      "metadata": {
        "id": "RxF9IOV-06N6",
        "colab": {
          "base_uri": "https://localhost:8080/"
        },
        "outputId": "59178ff3-e719-42b8-c673-aa41f93768d6"
      },
      "execution_count": null,
      "outputs": [
        {
          "output_type": "stream",
          "name": "stdout",
          "text": [
            "0.6970184744832632\n"
          ]
        }
      ]
    },
    {
      "cell_type": "code",
      "source": [
        "print(predictions)"
      ],
      "metadata": {
        "id": "5WfIfGXi09ur",
        "colab": {
          "base_uri": "https://localhost:8080/"
        },
        "outputId": "2e380d94-0f4f-4357-e0c7-ed0933ea502d"
      },
      "execution_count": null,
      "outputs": [
        {
          "output_type": "stream",
          "name": "stdout",
          "text": [
            "[1 1 1 0 0 0 0 1 0 0 0 0 0 0 0 0 0 1 1 0 0 1 0 1 0 1 0 0 1 1 0 1 0 0 0 1 1\n",
            " 0 1 0 0 1 1 1 1 0 0 0 1 0 1 1 0 0 1 0 0 0 0 0 0 0 0 0 0 0 0 0 0 0 0 0 0 0\n",
            " 0 0 0 0 0 0 0 0 0 0 0 0 0 0 0 0 0 0 0 0 0 0 0 0 0 0 0 0 0 0 0 0 0 0 0 0 0\n",
            " 0 0 0 0 0 0 0 0 0 0 0 0 0 0 0 0 0 0 0 0 0 0 0 0 0 0 0 0 0 0 0 0 0 0 0 0 0\n",
            " 0 0 0 0 0 0 0 0 0 0 0 0 0 0 0 0 0 0 0 0 0 0 0 0 0 0 0 0 0 0 0 0 0 0 0 0 0\n",
            " 0 0 0 0 0 0 0 0 0 0 0 0 0 0 0 0 0 1 0 0 0 0 0 0 0 0 0 0 0 0 0 0 0 0 0 0 0\n",
            " 0 0 0 0 0 0 0 0 0 0 0 0 0 0 0 0 0 1 0 0 0 0 0 0 0 0 0 0 0 0 0 0 0 0 0 0 0\n",
            " 0 0 0 0 0 0 0 0 0 0 0 0 0 0 0 1 0 0 0 0 0 0 0 0 0 0 0 0 0 0 1 0 0 0 0 0 0\n",
            " 0 0 0 0 0 0 0 0 0 0 0 0 0 0 0 0 0 0 0 0 0 0 0 0 0 0 0 0 0 0 0 0 0 0 0 0 1\n",
            " 0 0 0 0 0 0 0 0 0 0 0 1 0 0 0 0 0 0 0 0 0 0 0 0 0 0 0 0 0 0 0 0 0 0 0 0 0\n",
            " 0 0 0 0 0 0 0 0 0 0 0 0 0 0 0 0 0 0 0 0 0 0 0 0 0 0 0 0 0 0 0 0 0 0 0 0 0\n",
            " 0 0 0 1 0 0 0 0 0 0 0 0 0 0 0 0 0 0 0 0 1 0 0 0 0 0 0 0 0 0 0 0 0 0 0 0 0\n",
            " 0 0 0 0 0 0 0 0 0 0 0 0 0 0 0 0 0 0 0 0 0 0 0 0 0 0 0 0 0 0 1 0 0 0 0 0 0\n",
            " 0 0 0 0 1 0 0 0 0 0 0 0 0 1 0 0 0 0 0 0 0 0 0 0 0 0 0 0 0 0 0 0 0 0 0 0 0\n",
            " 0 0 0 0 0 0 0 0 0 1 0 0 0 0 0 0 0 0 0 0 0 0 0 0 0 0 0 0 0 0 0 0 0 0]\n"
          ]
        }
      ]
    },
    {
      "cell_type": "code",
      "source": [
        "predictions = pd.DataFrame(lr_model.predict_proba(X_test),columns=[\"prob_0\",\"prob_1\"])\n",
        "\n",
        "print(predictions)"
      ],
      "metadata": {
        "id": "uNKE6jTv1ADq",
        "colab": {
          "base_uri": "https://localhost:8080/"
        },
        "outputId": "b2b622b0-4a4a-4c08-e9e1-e5abe8f3b440"
      },
      "execution_count": null,
      "outputs": [
        {
          "output_type": "stream",
          "name": "stdout",
          "text": [
            "       prob_0    prob_1\n",
            "0    0.327520  0.672480\n",
            "1    0.425903  0.574097\n",
            "2    0.341907  0.658093\n",
            "3    0.999413  0.000587\n",
            "4    0.942077  0.057923\n",
            "..        ...       ...\n",
            "547  0.823318  0.176682\n",
            "548  0.996326  0.003674\n",
            "549  0.997360  0.002640\n",
            "550  0.984624  0.015376\n",
            "551  0.970995  0.029005\n",
            "\n",
            "[552 rows x 2 columns]\n"
          ]
        }
      ]
    },
    {
      "cell_type": "code",
      "source": [
        "score_auc = metrics.roc_auc_score(y_test,predictions[\"prob_1\"])\n",
        "print(score_auc)"
      ],
      "metadata": {
        "id": "ZERT6s2b1B2K",
        "colab": {
          "base_uri": "https://localhost:8080/"
        },
        "outputId": "e5a272ca-c68b-4332-92ad-f31b6117c6a4"
      },
      "execution_count": null,
      "outputs": [
        {
          "output_type": "stream",
          "name": "stdout",
          "text": [
            "0.897969635997805\n"
          ]
        }
      ]
    },
    {
      "cell_type": "code",
      "source": [
        "data_features_onehot_encoding = pd.get_dummies(data_features)\n",
        "\n",
        "print(data_features_onehot_encoding)"
      ],
      "metadata": {
        "id": "4c0ijT181EZz",
        "colab": {
          "base_uri": "https://localhost:8080/"
        },
        "outputId": "9a44decc-40ac-4b87-a683-6609b1bae856"
      },
      "execution_count": null,
      "outputs": [
        {
          "output_type": "stream",
          "name": "stdout",
          "text": [
            "      -10_A  -10_C  -10_G  -10_T  -9_A  -9_C  -9_G  -9_T  -8_A  -8_C  ...  \\\n",
            "0         0      0      0      1     0     0     0     1     0     0  ...   \n",
            "1         0      0      0      1     1     0     0     0     0     0  ...   \n",
            "2         0      0      0      1     0     0     0     1     0     0  ...   \n",
            "3         0      0      0      1     1     0     0     0     0     0  ...   \n",
            "4         0      0      0      1     1     0     0     0     1     0  ...   \n",
            "...     ...    ...    ...    ...   ...   ...   ...   ...   ...   ...  ...   \n",
            "3299      0      0      0      1     0     0     0     1     0     0  ...   \n",
            "3300      0      1      0      0     0     0     0     1     0     0  ...   \n",
            "3301      0      0      0      1     0     0     0     1     0     1  ...   \n",
            "3302      1      0      0      0     1     0     0     0     1     0  ...   \n",
            "3303      1      0      0      0     0     0     1     0     1     0  ...   \n",
            "\n",
            "      8_G  8_T  9_A  9_C  9_G  9_T  10_A  10_C  10_G  10_T  \n",
            "0       1    0    0    1    0    0     0     0     0     1  \n",
            "1       0    0    0    0    1    0     1     0     0     0  \n",
            "2       0    0    0    0    0    1     0     0     1     0  \n",
            "3       1    0    0    0    0    1     0     0     0     1  \n",
            "4       0    0    0    0    1    0     1     0     0     0  \n",
            "...   ...  ...  ...  ...  ...  ...   ...   ...   ...   ...  \n",
            "3299    0    0    0    0    0    1     0     1     0     0  \n",
            "3300    0    0    1    0    0    0     0     0     0     1  \n",
            "3301    1    0    1    0    0    0     1     0     0     0  \n",
            "3302    0    0    0    0    1    0     1     0     0     0  \n",
            "3303    1    0    0    0    0    1     0     0     0     1  \n",
            "\n",
            "[3304 rows x 80 columns]\n"
          ]
        }
      ]
    },
    {
      "cell_type": "code",
      "source": [
        "X_train = data_features_onehot_encoding.loc[data.subset == \"train\"]\n",
        "X_test = data_features_onehot_encoding.loc[data.subset == \"test\"]\n",
        "\n",
        "lr_model.fit(X_train,y_train)\n",
        "\n",
        "predictions = pd.DataFrame(lr_model.predict_proba(X_test),columns=[\"prob_0\",\"prob_1\"])\n",
        "score_auc = metrics.roc_auc_score(y_test,predictions[\"prob_1\"])\n",
        "\n",
        "\n",
        "print(score_auc)"
      ],
      "metadata": {
        "id": "Ar8G_bUL1HAa",
        "colab": {
          "base_uri": "https://localhost:8080/"
        },
        "outputId": "da3d123b-a48a-490d-fe61-1171d6936a61"
      },
      "execution_count": null,
      "outputs": [
        {
          "output_type": "stream",
          "name": "stdout",
          "text": [
            "0.9851472471190781\n"
          ]
        }
      ]
    },
    {
      "cell_type": "code",
      "source": [
        "print(lr_model.coef_[0])"
      ],
      "metadata": {
        "id": "hXYfnwaf1J_b",
        "colab": {
          "base_uri": "https://localhost:8080/"
        },
        "outputId": "2f90ab28-bb30-4e19-bb5e-b2047a6dcf2f"
      },
      "execution_count": null,
      "outputs": [
        {
          "output_type": "stream",
          "name": "stdout",
          "text": [
            "[ 0.18535922 -0.17254465 -0.64432076  0.63155105  0.36323346  0.09664242\n",
            " -0.82511475  0.36528374  0.42644274 -0.00627464 -1.01475009  0.59462685\n",
            "  0.2943751  -0.68264436 -0.36023434  0.74854847  0.62222768 -1.22208009\n",
            " -0.13600194  0.73589922  0.10617957  0.17511685 -0.97650548  0.69525393\n",
            " -0.30416484 -0.40788395 -1.10386006  1.81595372 -0.21790803 -1.20477227\n",
            " -1.11330282  2.53602798  0.0671242  -0.15447455 -1.36278366  1.45017887\n",
            " -0.6199823   2.10008164 -1.93416747  0.454113    0.31268108 -0.83265987\n",
            "  1.45490251 -0.93487886 -0.35797043  0.26184045 -0.08013915  0.17631399\n",
            " -0.0247569   0.23742285  0.40959851 -0.6222196  -0.31194619  0.29535498\n",
            "  0.42828426 -0.41164818 -0.20320261  0.19427966  0.3345353  -0.32556748\n",
            " -0.30042054  0.66079598  0.26838713 -0.62871771 -0.20485503  0.36583118\n",
            "  0.2601907  -0.42112198 -0.24838684  0.44239752  0.33979426 -0.53376007\n",
            " -0.21496153  0.00264659  0.35339661 -0.1410368  -0.69564289  0.42731881\n",
            "  0.38151408 -0.11314514]\n"
          ]
        }
      ]
    },
    {
      "cell_type": "code",
      "source": [
        "model_parameters = pd.DataFrame()\n",
        "model_parameters[\"feature\"] = data_features_onehot_encoding.columns\n",
        "model_parameters[\"parameter_value\"] = lr_model.coef_[0]\n",
        "print(model_parameters)"
      ],
      "metadata": {
        "id": "fVe1KLHM1LNy",
        "colab": {
          "base_uri": "https://localhost:8080/"
        },
        "outputId": "8a4573b5-b0b9-435d-cba5-da91f50719a7"
      },
      "execution_count": null,
      "outputs": [
        {
          "output_type": "stream",
          "name": "stdout",
          "text": [
            "   feature  parameter_value\n",
            "0    -10_A         0.185359\n",
            "1    -10_C        -0.172545\n",
            "2    -10_G        -0.644321\n",
            "3    -10_T         0.631551\n",
            "4     -9_A         0.363233\n",
            "..     ...              ...\n",
            "75     9_T        -0.141037\n",
            "76    10_A        -0.695643\n",
            "77    10_C         0.427319\n",
            "78    10_G         0.381514\n",
            "79    10_T        -0.113145\n",
            "\n",
            "[80 rows x 2 columns]\n"
          ]
        }
      ]
    },
    {
      "cell_type": "code",
      "source": [
        "model_parameters.plot.bar(x=\"feature\",y=\"parameter_value\",figsize=(20,12))"
      ],
      "metadata": {
        "id": "m-E6ulao1Nib",
        "colab": {
          "base_uri": "https://localhost:8080/",
          "height": 611
        },
        "outputId": "40a87032-0f82-480a-97fc-d8ecd2ad131e"
      },
      "execution_count": null,
      "outputs": [
        {
          "output_type": "execute_result",
          "data": {
            "text/plain": [
              "<Axes: xlabel='feature'>"
            ]
          },
          "metadata": {},
          "execution_count": 29
        },
        {
          "output_type": "display_data",
          "data": {
            "text/plain": [
              "<Figure size 2000x1200 with 1 Axes>"
            ],
            "image/png": "[encoded data removed]"
          },
          "metadata": {}
        }
      ]
    }
  ]
}